{
 "cells": [
  {
   "cell_type": "code",
   "execution_count": 26,
   "metadata": {},
   "outputs": [],
   "source": [
    "import tkinter as tk\n",
    "from tkinter import filedialog\n",
    "from matplotlib.backends.backend_tkagg import FigureCanvasTkAgg"
   ]
  },
  {
   "cell_type": "code",
   "execution_count": null,
   "metadata": {},
   "outputs": [],
   "source": [
    "pip install pandas\n"
   ]
  },
  {
   "cell_type": "code",
   "execution_count": null,
   "metadata": {},
   "outputs": [],
   "source": [
    "pip install numpy\n"
   ]
  },
  {
   "cell_type": "code",
   "execution_count": null,
   "metadata": {},
   "outputs": [],
   "source": [
    "pip install matplotlib"
   ]
  },
  {
   "cell_type": "code",
   "execution_count": null,
   "metadata": {},
   "outputs": [],
   "source": [
    "pip install scikit-learn"
   ]
  },
  {
   "cell_type": "code",
   "execution_count": null,
   "metadata": {},
   "outputs": [],
   "source": [
    "pip install seaborn"
   ]
  },
  {
   "cell_type": "code",
   "execution_count": null,
   "metadata": {},
   "outputs": [],
   "source": [
    "pip install pandas numpy matplotlib seaborn sklearn"
   ]
  },
  {
   "cell_type": "code",
   "execution_count": null,
   "metadata": {},
   "outputs": [],
   "source": [
    "pip -r requirements.txt"
   ]
  },
  {
   "cell_type": "code",
   "execution_count": 34,
   "metadata": {},
   "outputs": [],
   "source": [
    "import pandas as pd\n",
    "import numpy as np\n",
    "import matplotlib.pyplot as plt\n",
    "from sklearn.cluster import KMeans\n",
    "import seaborn as sns\n"
   ]
  },
  {
   "cell_type": "markdown",
   "metadata": {},
   "source": [
    "---"
   ]
  },
  {
   "cell_type": "markdown",
   "metadata": {},
   "source": [
    "### Importing the data from .csv file"
   ]
  },
  {
   "cell_type": "code",
   "execution_count": 35,
   "metadata": {},
   "outputs": [],
   "source": [
    "data = pd.read_csv('data\\Mall_Customers.csv')"
   ]
  },
  {
   "cell_type": "markdown",
   "metadata": {},
   "source": [
    "---"
   ]
  },
  {
   "cell_type": "markdown",
   "metadata": {},
   "source": [
    "### Cleaning"
   ]
  },
  {
   "cell_type": "code",
   "execution_count": null,
   "metadata": {},
   "outputs": [],
   "source": [
    "data = data.drop('CustomerID', axis=1)\n",
    "data.head()"
   ]
  },
  {
   "cell_type": "markdown",
   "metadata": {},
   "source": [
    "####  Gender Data Visualization"
   ]
  },
  {
   "cell_type": "code",
   "execution_count": null,
   "metadata": {},
   "outputs": [],
   "source": [
    "labels=data['Gender'].unique()\n",
    "values=data['Gender'].value_counts(ascending=True)\n",
    "\n",
    "\n",
    "fig, (ax0,ax1) = plt.subplots(ncols=2,figsize=(15,8))\n",
    "bar = ax0.bar(x=labels, height=values, width=0.4, align='center', color=['#42a7f5','#d400ad'])\n",
    "ax0.set(title='Count difference in Gender Distribution',xlabel='Gender', ylabel='No. of Customers')\n",
    "ax0.set_ylim(0,130)\n",
    "ax0.axhline(y=data['Gender'].value_counts()[0], color='#d400ad', linestyle='--', label=f'Female ({data.Gender.value_counts()[0]})')\n",
    "ax0.axhline(y=data['Gender'].value_counts()[1], color='#42a7f5', linestyle='--', label=f'Male ({data.Gender.value_counts()[1]})')\n",
    "ax0.legend()\n",
    "\n",
    "\n",
    "ax1.pie(values,labels=labels,colors=['#42a7f5','#d400ad'],autopct='%1.1f%%')\n",
    "ax1.set(title='Ratio of Gender Distribution')\n",
    "fig.suptitle('Gender Distribution', fontsize=30);\n",
    "plt.show()"
   ]
  },
  {
   "cell_type": "markdown",
   "metadata": {},
   "source": [
    "####  Age Data Visualization"
   ]
  },
  {
   "cell_type": "markdown",
   "metadata": {},
   "source": [
    "Visualizing Statistical Description of the Age on a boxplot."
   ]
  },
  {
   "cell_type": "code",
   "execution_count": null,
   "metadata": {},
   "outputs": [],
   "source": [
    "fig, ax = plt.subplots(figsize=(5,8))\n",
    "sns.set(font_scale=1.5)\n",
    "ax = sns.boxplot(y=data[\"Age\"], color=\"#f73434\")\n",
    "ax.axhline(y=data['Age'].max(), linestyle='--',color='#c90404', label=f'Max Age ({data.Age.max()})')\n",
    "ax.axhline(y=data['Age'].describe()[6], linestyle='--',color='#f74343', label=f'75% Age ({data.Age.describe()[6]:.2f})')\n",
    "ax.axhline(y=data['Age'].median(), linestyle='--',color='#eb50db', label=f'Median Age ({data.Age.median():.2f})')\n",
    "ax.axhline(y=data['Age'].describe()[4], linestyle='--',color='#eb50db', label=f'25% Age ({data.Age.describe()[4]:.2f})')\n",
    "ax.axhline(y=data['Age'].min(), linestyle='--',color='#046ebf', label=f'Min Age ({data.Age.min()})')\n",
    "ax.legend(fontsize='xx-small', loc='upper right')\n",
    "ax.set_ylabel('No. of Customers')\n",
    "\n",
    "plt.title('Age Distribution', fontsize = 20)\n",
    "plt.show()"
   ]
  },
  {
   "cell_type": "markdown",
   "metadata": {},
   "source": [
    "Visualizing Age Distribution using a countplot."
   ]
  },
  {
   "cell_type": "code",
   "execution_count": null,
   "metadata": {},
   "outputs": [],
   "source": [
    "fig, ax = plt.subplots(figsize=(20,8))\n",
    "sns.set(font_scale=1.5)\n",
    "ax = sns.countplot(x=data['Age'], palette='spring')\n",
    "ax.axhline(y=data['Age'].value_counts().max(), linestyle='--',color='#c90404', label=f'Max Age Count ({data.Age.value_counts().max()})')\n",
    "ax.axhline(y=data['Age'].value_counts().mean(), linestyle='--',color='#eb50db', label=f'Average Age Count ({data.Age.value_counts().mean():.1f})')\n",
    "ax.axhline(y=data['Age'].value_counts().min(), linestyle='--',color='#046ebf', label=f'Min Age Count ({data.Age.value_counts().min()})')\n",
    "ax.legend(loc ='right')\n",
    "ax.set_ylabel('No. of Customers')\n",
    "\n",
    "plt.title('Age Distribution', fontsize = 20)\n",
    "plt.show()"
   ]
  },
  {
   "cell_type": "markdown",
   "metadata": {},
   "source": [
    "###### Gender wise Age Distribution"
   ]
  },
  {
   "cell_type": "markdown",
   "metadata": {},
   "source": [
    "Visualizing Gender wise Age Distribution of Male and Female customers on a boxplot."
   ]
  },
  {
   "cell_type": "code",
   "execution_count": null,
   "metadata": {},
   "outputs": [],
   "source": [
    "data_male = data[data['Gender']=='Male']['Age'].describe()\n",
    "data_female = data[data['Gender']=='Female']['Age'].describe()\n",
    "\n",
    "fig, (ax0,ax1) = plt.subplots(ncols=2,figsize=(15,8))\n",
    "sns.set(font_scale=1.5)\n",
    "sns.boxplot(y=data[data['Gender']=='Male']['Age'], color=\"#42a7f5\", ax=ax0)\n",
    "ax0.axhline(y=data['Age'].max(), linestyle='--',color='#c90404', label=f'Max Age ({data_male[7]})')\n",
    "ax0.axhline(y=data_male[6], linestyle='--',color='#eb50db', label=f'75% Age ({data_male[6]:.2f})')\n",
    "ax0.axhline(y=data_male[5], linestyle='--',color='#eb50db', label=f'Median Age ({data_male[5]:.2f})')\n",
    "ax0.axhline(y=data_male[4], linestyle='--',color='#eb50db', label=f'25% Age ({data_male[4]:.2f})')\n",
    "ax0.axhline(y=data_male[3], linestyle='--',color='#046ebf', label=f'Min Age ({data_male[3]})')\n",
    "ax0.legend(fontsize='xx-small', loc='upper right')\n",
    "ax0.set(ylabel='No. of Customers', title='Age Distribution of Male Customers')\n",
    "ax0.set_ylim(15,72)\n",
    "\n",
    "ax1 = sns.boxplot(y=data[data['Gender']=='Female']['Age'], color=\"#d400ad\", ax=ax1)\n",
    "ax1.axhline(y=data_female[7], linestyle='--',color='#c90404', label=f'Max Age ({data_female[7]})')\n",
    "ax1.axhline(y=data_female[6], linestyle='--',color='#eb50db', label=f'75% Age ({data_female[6]:.2f})')\n",
    "ax1.axhline(y=data_female[5], linestyle='--',color='#eb50db', label=f'Median Age ({data_female[5]:.2f})')\n",
    "ax1.axhline(y=data_female[4], linestyle='--',color='#eb50db', label=f'25% Age ({data_female[4]:.2f})')\n",
    "ax1.axhline(y=data_female[3], linestyle='--',color='#046ebf', label=f'Min Age ({data_female[3]})')\n",
    "ax1.legend(fontsize='xx-small', loc='upper right')\n",
    "ax1.set(ylabel='No. of Customers', title='Age Distribution of Female Customers')\n",
    "ax1.set_ylim(15,72)\n",
    "\n",
    "plt.show()"
   ]
  },
  {
   "cell_type": "markdown",
   "metadata": {},
   "source": [
    "Visualizing distribution of age count in Male customers using a countplot."
   ]
  },
  {
   "cell_type": "code",
   "execution_count": null,
   "metadata": {},
   "outputs": [],
   "source": [
    "maxi = data[data['Gender']=='Male'].Age.value_counts().max()\n",
    "mean = data[data['Gender']=='Male'].Age.value_counts().mean()\n",
    "mini = data[data['Gender']=='Male'].Age.value_counts().min()\n",
    "\n",
    "\n",
    "fig, ax = plt.subplots(figsize=(20,8))\n",
    "sns.set(font_scale=1.5)\n",
    "ax = sns.countplot(x=data[data['Gender']=='Male'].Age, palette='spring')\n",
    "\n",
    "ax.axhline(y=maxi, linestyle='--',color='#c90404', label=f'Max Age Count ({maxi})')\n",
    "ax.axhline(y=mean, linestyle='--',color='#eb50db', label=f'Average Age Count ({mean:.1f})')\n",
    "ax.axhline(y=mini, linestyle='--',color='#046ebf', label=f'Min Age Count ({mini})')\n",
    "ax.set_ylabel('No. of Customers')\n",
    "\n",
    "ax.legend(loc ='right')\n",
    "\n",
    "plt.title('Age Count Distribution in Male Customers', fontsize = 20)\n",
    "plt.show()"
   ]
  },
  {
   "cell_type": "markdown",
   "metadata": {},
   "source": [
    "Visualizing distribution of age count in Female customers using a countplot."
   ]
  },
  {
   "cell_type": "code",
   "execution_count": null,
   "metadata": {},
   "outputs": [],
   "source": [
    "maxi = data[data['Gender']=='Female'].Age.value_counts().max()\n",
    "mean = data[data['Gender']=='Female'].Age.value_counts().mean()\n",
    "mini = data[data['Gender']=='Female'].Age.value_counts().min()\n",
    "\n",
    "\n",
    "fig, ax = plt.subplots(figsize=(20,8))\n",
    "sns.set(font_scale=1.5)\n",
    "ax = sns.countplot(x=data[data['Gender']=='Female'].Age, palette='spring')\n",
    "ax.axhline(y=maxi, linestyle='--',color='#c90404', label=f'Max Age Count ({maxi})')\n",
    "ax.axhline(y=mean, linestyle='--',color='#eb50db', label=f'Average Age Count ({mean:.1f})')\n",
    "ax.axhline(y=mini, linestyle='--',color='#046ebf', label=f'Min Age Count ({mini})')\n",
    "ax.set_ylabel('No. of Customers')\n",
    "ax.legend(loc ='right')\n",
    "\n",
    "plt.title('Age Distribution in Female Customers', fontsize = 20)\n",
    "plt.show()"
   ]
  },
  {
   "cell_type": "markdown",
   "metadata": {},
   "source": [
    "#### Analyzing Annual Income data"
   ]
  },
  {
   "cell_type": "markdown",
   "metadata": {},
   "source": [
    "Visualizing statistical data about Annual Income column on a boxplot."
   ]
  },
  {
   "cell_type": "code",
   "execution_count": null,
   "metadata": {},
   "outputs": [],
   "source": [
    "fig, ax = plt.subplots(figsize=(5,8))\n",
    "sns.set(font_scale=1.5)\n",
    "ax = sns.boxplot(y=data[\"Annual_Income\"], color=\"#f73434\")\n",
    "ax.axhline(y=data[\"Annual_Income\"].max(), linestyle='--',color='#c90404', label=f'Max Income ({data.Annual_Income.max()})')\n",
    "ax.axhline(y=data[\"Annual_Income\"].describe()[6], linestyle='--',color='#f74343', label=f'75% Income ({data.Annual_Income.describe()[6]:.2f})')\n",
    "ax.axhline(y=data[\"Annual_Income\"].median(), linestyle='--',color='#eb50db', label=f'Median Income ({data.Annual_Income.median():.2f})')\n",
    "ax.axhline(y=data[\"Annual_Income\"].describe()[4], linestyle='--',color='#eb50db', label=f'25% Income ({data.Annual_Income.describe()[4]:.2f})')\n",
    "ax.axhline(y=data[\"Annual_Income\"].min(), linestyle='--',color='#046ebf', label=f'Min Income ({data.Annual_Income.min()})')\n",
    "ax.legend(fontsize='xx-small', loc='upper right')\n",
    "ax.set_ylabel('No. of Customers')\n",
    "\n",
    "plt.title('Annual Income (in Thousand USD)', fontsize = 20)\n",
    "plt.show()"
   ]
  },
  {
   "cell_type": "markdown",
   "metadata": {},
   "source": [
    "Visualizing Annual Income per Age on a Scatterplot."
   ]
  },
  {
   "cell_type": "code",
   "execution_count": null,
   "metadata": {},
   "outputs": [],
   "source": [
    "fig, ax = plt.subplots(figsize=(15,7))\n",
    "sns.set(font_scale=1.5)\n",
    "ax = sns.scatterplot(y=data['Annual_Income'], x=data['Age'], color='#f73434', s=70,edgecolor='black', linewidth=0.3)\n",
    "ax.set_ylabel('Annual Income (in Thousand USD)')\n",
    "\n",
    "plt.title('Annual Income per Age', fontsize = 20)\n",
    "plt.show()"
   ]
  },
  {
   "cell_type": "markdown",
   "metadata": {},
   "source": [
    "###### Annual Income per Gender."
   ]
  },
  {
   "cell_type": "markdown",
   "metadata": {},
   "source": [
    "Visualizing statistical difference of Annual Income between Male and Female Customers."
   ]
  },
  {
   "cell_type": "code",
   "execution_count": null,
   "metadata": {},
   "outputs": [],
   "source": [
    "fig, ax = plt.subplots(figsize=(10,8))\n",
    "sns.set(font_scale=1.5)\n",
    "ax = sns.boxplot(x=data['Gender'], y=data[\"Annual_Income\"], hue=data['Gender'], palette='seismic')\n",
    "ax.set_ylabel('Annual Income (in Thousand USD)')\n",
    "\n",
    "plt.title('Annual Income Distribution by Gender', fontsize = 20)\n",
    "plt.show()"
   ]
  },
  {
   "cell_type": "markdown",
   "metadata": {},
   "source": [
    "Visualizing annual Income per Age by Gender on a scatterplot."
   ]
  },
  {
   "cell_type": "code",
   "execution_count": null,
   "metadata": {},
   "outputs": [],
   "source": [
    "fig, ax = plt.subplots(figsize=(15,7))\n",
    "sns.set(font_scale=1.5)\n",
    "ax = sns.scatterplot(y=data['Annual_Income'], x=data['Age'], hue=data['Gender'], palette='seismic', s=70,edgecolor='black', linewidth=0.3)\n",
    "ax.set_ylabel('Annual Income (in Thousand USD)')\n",
    "ax.legend(loc ='upper right')\n",
    "\n",
    "plt.title('Annual Income per Age by Gender', fontsize = 20)\n",
    "plt.show()"
   ]
  },
  {
   "cell_type": "markdown",
   "metadata": {},
   "source": [
    "#### Analyzing Spending Score data"
   ]
  },
  {
   "cell_type": "markdown",
   "metadata": {},
   "source": [
    "Visualizing statistical data about Spending score column on a boxplot."
   ]
  },
  {
   "cell_type": "code",
   "execution_count": null,
   "metadata": {},
   "outputs": [],
   "source": [
    "fig, ax = plt.subplots(figsize=(5,8))\n",
    "sns.set(font_scale=1.5)\n",
    "ax = sns.boxplot(y=data['Spending_Score'], color=\"#f73434\")\n",
    "ax.axhline(y=data['Spending_Score'].max(), linestyle='--',color='#c90404', label=f'Max Spending ({data.Spending_Score.max()})')\n",
    "ax.axhline(y=data['Spending_Score'].describe()[6], linestyle='--',color='#f74343', label=f'75% Spending ({data.Spending_Score.describe()[6]:.2f})')\n",
    "ax.axhline(y=data['Spending_Score'].median(), linestyle='--',color='#eb50db', label=f'Median Spending ({data.Spending_Score.median():.2f})')\n",
    "ax.axhline(y=data['Spending_Score'].describe()[4], linestyle='--',color='#eb50db', label=f'25% Spending ({data.Spending_Score.describe()[4]:.2f})')\n",
    "ax.axhline(y=data['Spending_Score'].min(), linestyle='--',color='#046ebf', label=f'Min Spending ({data.Spending_Score.min()})')\n",
    "ax.legend(fontsize='xx-small', loc='upper right')\n",
    "ax.set_ylabel('Spending Score')\n",
    "\n",
    "plt.title('Spending Score', fontsize = 20)\n",
    "plt.show()"
   ]
  },
  {
   "cell_type": "markdown",
   "metadata": {},
   "source": [
    "Visualizing Spending Scores per Age on a scatterplot."
   ]
  },
  {
   "cell_type": "code",
   "execution_count": null,
   "metadata": {},
   "outputs": [],
   "source": [
    "fig, ax = plt.subplots(figsize=(15,7))\n",
    "sns.set(font_scale=1.5)\n",
    "ax = sns.scatterplot(y=data['Spending_Score'], x=data['Age'], s=70, color='#f73434', edgecolor='black', linewidth=0.3)\n",
    "ax.set_ylabel('Spending Scores')\n",
    "\n",
    "plt.title('Spending Scores per Age', fontsize = 20)\n",
    "plt.show()"
   ]
  },
  {
   "cell_type": "markdown",
   "metadata": {},
   "source": [
    "###### Spending Scores per Gender"
   ]
  },
  {
   "cell_type": "markdown",
   "metadata": {},
   "source": [
    "Statistical data of Spending Score of male customer and female customer"
   ]
  },
  {
   "cell_type": "code",
   "execution_count": null,
   "metadata": {},
   "outputs": [],
   "source": [
    "fig, ax = plt.subplots(figsize=(10,8))\n",
    "sns.set(font_scale=1.5)\n",
    "ax = sns.boxplot(x=data['Gender'], y=data[\"Spending_Score\"], hue=data['Gender'], palette='seismic')\n",
    "ax.set_ylabel('Spending Score')\n",
    "\n",
    "plt.title('Spending Score Distribution by Gender', fontsize = 20)\n",
    "plt.show()"
   ]
  },
  {
   "cell_type": "markdown",
   "metadata": {},
   "source": [
    "Visualizing Spending Score per Age by Gender on a scatterplot."
   ]
  },
  {
   "cell_type": "code",
   "execution_count": null,
   "metadata": {},
   "outputs": [],
   "source": [
    "fig, ax = plt.subplots(figsize=(15,7))\n",
    "sns.set(font_scale=1.5)\n",
    "ax = sns.scatterplot(y=data['Spending_Score'], x=data['Age'], hue=data['Gender'], palette='seismic', s=70,edgecolor='black', linewidth=0.3)\n",
    "ax.set_ylabel('Spending Scores')\n",
    "ax.legend(loc ='upper right')\n",
    "\n",
    "plt.title('Spending Score per Age by Gender', fontsize = 20)\n",
    "plt.show()"
   ]
  }
 ],
 "metadata": {
  "kernelspec": {
   "display_name": "Python 3",
   "language": "python",
   "name": "python3"
  },
  "language_info": {
   "codemirror_mode": {
    "name": "ipython",
    "version": 3
   },
   "file_extension": ".py",
   "mimetype": "text/x-python",
   "name": "python",
   "nbconvert_exporter": "python",
   "pygments_lexer": "ipython3",
   "version": "3.11.4"
  }
 },
 "nbformat": 4,
 "nbformat_minor": 4
}
